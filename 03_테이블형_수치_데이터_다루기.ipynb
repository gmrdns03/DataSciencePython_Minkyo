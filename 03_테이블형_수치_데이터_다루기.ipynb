{
  "nbformat": 4,
  "nbformat_minor": 0,
  "metadata": {
    "colab": {
      "name": "03_테이블형 수치 데이터 다루기.ipynb",
      "provenance": [],
      "collapsed_sections": [],
      "authorship_tag": "ABX9TyMWkB6PEJYcb+N8cLAxmxTx",
      "include_colab_link": true
    },
    "kernelspec": {
      "name": "python3",
      "display_name": "Python 3"
    },
    "language_info": {
      "name": "python"
    }
  },
  "cells": [
    {
      "cell_type": "markdown",
      "metadata": {
        "id": "view-in-github",
        "colab_type": "text"
      },
      "source": [
        "<a href=\"https://colab.research.google.com/github/gmrdns03/DataSciencePython_Minkyo/blob/main/03_%ED%85%8C%EC%9D%B4%EB%B8%94%ED%98%95_%EC%88%98%EC%B9%98_%EB%8D%B0%EC%9D%B4%ED%84%B0_%EB%8B%A4%EB%A3%A8%EA%B8%B0.ipynb\" target=\"_parent\"><img src=\"https://colab.research.google.com/assets/colab-badge.svg\" alt=\"Open In Colab\"/></a>"
      ]
    },
    {
      "cell_type": "markdown",
      "metadata": {
        "id": "iV7RqtIOi1dF"
      },
      "source": [
        "10개의 양수로 된 간단한 numpy배열 만들기"
      ]
    },
    {
      "cell_type": "code",
      "metadata": {
        "colab": {
          "base_uri": "https://localhost:8080/"
        },
        "id": "TP5hBeZada_M",
        "outputId": "12cb8f2e-151f-4a7f-d744-e4cef8768e2a"
      },
      "source": [
        "# 넘파이에서는 리스트 내포를 안해도 알아서 넣어준다.\n",
        "import numpy as np\n",
        "\n",
        "# 배열 만들기 array()\n",
        "numbers = np.array(range(1, 11), copy=True)\n",
        "numbers\n",
        "\n",
        "\n",
        "\n"
      ],
      "execution_count": null,
      "outputs": [
        {
          "output_type": "execute_result",
          "data": {
            "text/plain": [
              "array([ 1,  2,  3,  4,  5,  6,  7,  8,  9, 10])"
            ]
          },
          "metadata": {
            "tags": []
          },
          "execution_count": 2
        }
      ]
    },
    {
      "cell_type": "markdown",
      "metadata": {
        "id": "pRG_cCldjvB4"
      },
      "source": [
        "ones() -> 1, zeros() -> 0, empty() -> 아직 생성되지 않은 엔트리로 구성(빈 방) <br>\n",
        "일단 그릇을 만드는 설정만 하고 싶을 경우(초기 데이터)<br>\n",
        "https://numpy.org/doc/stable/reference/generated/numpy.array.html\n"
      ]
    },
    {
      "cell_type": "code",
      "metadata": {
        "colab": {
          "base_uri": "https://localhost:8080/"
        },
        "id": "RFBDop5ijPEW",
        "outputId": "c58dcb6d-576a-41aa-99ae-e62a6c3e17ea"
      },
      "source": [
        "# 아직 생성되지 않은 엔트리로 구성된 배열을 1로 채움\n",
        "ones = np.ones([2,4], dtype=np.float64)  # shape자리에는 무조건 자리를 만들어줘야 한다. defqult값은 float\n",
        "ones"
      ],
      "execution_count": null,
      "outputs": [
        {
          "output_type": "execute_result",
          "data": {
            "text/plain": [
              "array([[1., 1., 1., 1.],\n",
              "       [1., 1., 1., 1.]])"
            ]
          },
          "metadata": {
            "tags": []
          },
          "execution_count": 15
        }
      ]
    },
    {
      "cell_type": "code",
      "metadata": {
        "colab": {
          "base_uri": "https://localhost:8080/"
        },
        "id": "q-Da5GHpk-Dr",
        "outputId": "1ef6be23-0a71-4a1c-bd55-2282d2da99e7"
      },
      "source": [
        "# 아직 생성되지 않은 엔트리로 구성된 배열을 0로 채움\n",
        "zeros = np.zeros([2,4], dtype=np.float64)\n",
        "zeros"
      ],
      "execution_count": null,
      "outputs": [
        {
          "output_type": "execute_result",
          "data": {
            "text/plain": [
              "array([[0., 0., 0., 0.],\n",
              "       [0., 0., 0., 0.]])"
            ]
          },
          "metadata": {
            "tags": []
          },
          "execution_count": 9
        }
      ]
    },
    {
      "cell_type": "code",
      "metadata": {
        "colab": {
          "base_uri": "https://localhost:8080/"
        },
        "id": "Mzg4INeiljz4",
        "outputId": "13f8739f-d2e3-44de-a179-5b7eabd3dafc"
      },
      "source": [
        "# 아직 생성되지 않은 엔트리로 구성된 배열\n",
        "empty = np.empty([2,4], dtype=np.float64)\n",
        "empty"
      ],
      "execution_count": null,
      "outputs": [
        {
          "output_type": "execute_result",
          "data": {
            "text/plain": [
              "array([[0., 0., 0., 0.],\n",
              "       [0., 0., 0., 0.]])"
            ]
          },
          "metadata": {
            "tags": []
          },
          "execution_count": 10
        }
      ]
    },
    {
      "cell_type": "markdown",
      "metadata": {
        "id": "4EZ85gAomBEb"
      },
      "source": [
        "### 데이터 확인하기"
      ]
    },
    {
      "cell_type": "code",
      "metadata": {
        "colab": {
          "base_uri": "https://localhost:8080/"
        },
        "id": "_1OPzfWqlxha",
        "outputId": "0b927ac1-5593-45fc-8422-10e6260887f5"
      },
      "source": [
        "# 텍스트로 봤을 때 형태와 코드로 가져왔을 때 형태가 어떻게 다른지 확인해봐야함\n",
        "# 데이터를 가져왔을 때 형태를 보는 shape을 반드시 본다.\n",
        "ones.shape"
      ],
      "execution_count": null,
      "outputs": [
        {
          "output_type": "execute_result",
          "data": {
            "text/plain": [
              "(2, 4)"
            ]
          },
          "metadata": {
            "tags": []
          },
          "execution_count": 12
        }
      ]
    },
    {
      "cell_type": "code",
      "metadata": {
        "colab": {
          "base_uri": "https://localhost:8080/"
        },
        "id": "wq2C_bDRmV49",
        "outputId": "68167eeb-85b3-4349-ef8b-d18e533442d9"
      },
      "source": [
        "# dimentio차원 보기\n",
        "ones.ndim"
      ],
      "execution_count": null,
      "outputs": [
        {
          "output_type": "execute_result",
          "data": {
            "text/plain": [
              "2"
            ]
          },
          "metadata": {
            "tags": []
          },
          "execution_count": 13
        }
      ]
    },
    {
      "cell_type": "code",
      "metadata": {
        "colab": {
          "base_uri": "https://localhost:8080/"
        },
        "id": "nqrsBjSsmj8L",
        "outputId": "45de9221-e6ed-4398-eaba-40e720ced005"
      },
      "source": [
        "ones.dtype"
      ],
      "execution_count": null,
      "outputs": [
        {
          "output_type": "execute_result",
          "data": {
            "text/plain": [
              "dtype('float64')"
            ]
          },
          "metadata": {
            "tags": []
          },
          "execution_count": 16
        }
      ]
    },
    {
      "cell_type": "code",
      "metadata": {
        "colab": {
          "base_uri": "https://localhost:8080/"
        },
        "id": "Jie3rEirmmEl",
        "outputId": "d8e5fbee-c115-4344-d2fa-c1fc3649bc30"
      },
      "source": [
        "numbers.dtype"
      ],
      "execution_count": null,
      "outputs": [
        {
          "output_type": "execute_result",
          "data": {
            "text/plain": [
              "dtype('int64')"
            ]
          },
          "metadata": {
            "tags": []
          },
          "execution_count": 17
        }
      ]
    },
    {
      "cell_type": "markdown",
      "metadata": {
        "id": "1GpW3gsPm-Sj"
      },
      "source": [
        "### arange(start, stop, step, dtype=None) 일정 간격으로 배열 생성하는 함수\n"
      ]
    },
    {
      "cell_type": "code",
      "metadata": {
        "colab": {
          "base_uri": "https://localhost:8080/"
        },
        "id": "Du2RdANOmvKk",
        "outputId": "fc6b2087-d647-47c8-eb3e-2ae6ae86879e"
      },
      "source": [
        "# arange(start, stop, step, dtype=None) 일정 간격으로 배열 생성하는 함수\n",
        "np_numbers = np.arange(2, 5, 0.25)  # stop자리의 수는 포함이 되지 않는다.\n",
        "np_numbers"
      ],
      "execution_count": null,
      "outputs": [
        {
          "output_type": "execute_result",
          "data": {
            "text/plain": [
              "array([2.  , 2.25, 2.5 , 2.75, 3.  , 3.25, 3.5 , 3.75, 4.  , 4.25, 4.5 ,\n",
              "       4.75])"
            ]
          },
          "metadata": {
            "tags": []
          },
          "execution_count": 22
        }
      ]
    },
    {
      "cell_type": "markdown",
      "metadata": {
        "id": "BCo3CDCgnrEN"
      },
      "source": [
        "### astype(dtype, casting=\"unsafe\", copy=True) 아이템의 타입 변경해 주는 함수\n"
      ]
    },
    {
      "cell_type": "code",
      "metadata": {
        "colab": {
          "base_uri": "https://localhost:8080/"
        },
        "id": "klqAgV7doFDG",
        "outputId": "6fce1696-f036-4f7a-f907-e81baf48f7bd"
      },
      "source": [
        "np_numbers.dtype"
      ],
      "execution_count": null,
      "outputs": [
        {
          "output_type": "execute_result",
          "data": {
            "text/plain": [
              "dtype('float64')"
            ]
          },
          "metadata": {
            "tags": []
          },
          "execution_count": 23
        }
      ]
    },
    {
      "cell_type": "code",
      "metadata": {
        "colab": {
          "base_uri": "https://localhost:8080/"
        },
        "id": "aRnOV2BEniz_",
        "outputId": "19f44546-f34b-4e99-8fa5-62c0a332ad73"
      },
      "source": [
        "# 데이터 타입을 변경 시켜주는 함수\n",
        "# astype에 한번 넣어주면 안에 있는 요솟값들을 전부 한번에 변경해준다.\n",
        "np_numbers = np_numbers.astype(np.int)\n",
        "np_numbers.dtype"
      ],
      "execution_count": null,
      "outputs": [
        {
          "output_type": "execute_result",
          "data": {
            "text/plain": [
              "dtype('int64')"
            ]
          },
          "metadata": {
            "tags": []
          },
          "execution_count": 24
        }
      ]
    },
    {
      "cell_type": "markdown",
      "metadata": {
        "id": "eql-a4ckocJB"
      },
      "source": [
        "### reshape(d0, d1, ...) 대상 배열의 모양을 바꿔주는 함수\n"
      ]
    },
    {
      "cell_type": "code",
      "metadata": {
        "colab": {
          "base_uri": "https://localhost:8080/"
        },
        "id": "kWGvfAuooMLY",
        "outputId": "e55b50ea-e40d-4ef3-dac8-6615ff01076c"
      },
      "source": [
        "# 몇 가지 S&P 주식 기호들\n",
        "sap = np.array([\"MMM\", \"ABT\", \"ABBV\", \"ACN\", \"ACE\", \"ATVI\", \"ADBE\", \"ADT\"])\n",
        "sap #U4 는 4글자 유니코드\n"
      ],
      "execution_count": null,
      "outputs": [
        {
          "output_type": "execute_result",
          "data": {
            "text/plain": [
              "array(['MMM', 'ABT', 'ABBV', 'ACN', 'ACE', 'ATVI', 'ADBE', 'ADT'],\n",
              "      dtype='<U4')"
            ]
          },
          "metadata": {
            "tags": []
          },
          "execution_count": 25
        }
      ]
    },
    {
      "cell_type": "code",
      "metadata": {
        "colab": {
          "base_uri": "https://localhost:8080/"
        },
        "id": "x9Dl_tQ8oznR",
        "outputId": "0b2d163a-a8b5-464e-fca7-94f6dd23fe22"
      },
      "source": [
        "sap.shape"
      ],
      "execution_count": null,
      "outputs": [
        {
          "output_type": "execute_result",
          "data": {
            "text/plain": [
              "(8,)"
            ]
          },
          "metadata": {
            "tags": []
          },
          "execution_count": 26
        }
      ]
    },
    {
      "cell_type": "code",
      "metadata": {
        "colab": {
          "base_uri": "https://localhost:8080/"
        },
        "id": "jN-644Buo8_C",
        "outputId": "49473b92-01de-43bf-f0d5-5c79e41abd19"
      },
      "source": [
        "# 말도 안되는 쉐입을 만들면 오류가 난다.\n",
        "# 데이터 보존의 법칙, 데이터가 삭제되면 안된다.\n",
        "sap2d = sap.reshape(2,4)\n",
        "\n",
        "sap2d"
      ],
      "execution_count": null,
      "outputs": [
        {
          "output_type": "execute_result",
          "data": {
            "text/plain": [
              "array([['MMM', 'ABT', 'ABBV', 'ACN'],\n",
              "       ['ACE', 'ATVI', 'ADBE', 'ADT']], dtype='<U4')"
            ]
          },
          "metadata": {
            "tags": []
          },
          "execution_count": 27
        }
      ]
    },
    {
      "cell_type": "code",
      "metadata": {
        "colab": {
          "base_uri": "https://localhost:8080/"
        },
        "id": "Q-BYbs75pU3E",
        "outputId": "29649817-f830-42fd-d554-fc0fd59de062"
      },
      "source": [
        "# 기존 배열과 새로운 배열의 아이템의 개수는 항상 동일 해야 함\n",
        "# numpy 보존의 법칙 성립\n",
        "\n",
        "sap3d = sap.reshape(2,2,2) # 3차원으로 변경\n",
        "sap3d"
      ],
      "execution_count": null,
      "outputs": [
        {
          "output_type": "execute_result",
          "data": {
            "text/plain": [
              "array([[['MMM', 'ABT'],\n",
              "        ['ABBV', 'ACN']],\n",
              "\n",
              "       [['ACE', 'ATVI'],\n",
              "        ['ADBE', 'ADT']]], dtype='<U4')"
            ]
          },
          "metadata": {
            "tags": []
          },
          "execution_count": 28
        }
      ]
    },
    {
      "cell_type": "code",
      "metadata": {
        "colab": {
          "base_uri": "https://localhost:8080/"
        },
        "id": "kuZX44TBpp-P",
        "outputId": "f8110f96-5f57-4b89-fdfa-d32d477fbac1"
      },
      "source": [
        "sap3d[0] # 1차원"
      ],
      "execution_count": null,
      "outputs": [
        {
          "output_type": "execute_result",
          "data": {
            "text/plain": [
              "array([['MMM', 'ABT'],\n",
              "       ['ABBV', 'ACN']], dtype='<U4')"
            ]
          },
          "metadata": {
            "tags": []
          },
          "execution_count": 29
        }
      ]
    },
    {
      "cell_type": "code",
      "metadata": {
        "colab": {
          "base_uri": "https://localhost:8080/"
        },
        "id": "zwmyTx20p1z5",
        "outputId": "5dd16036-4170-447a-982a-ce55d85c10f1"
      },
      "source": [
        "sap3d[1] # 2차원"
      ],
      "execution_count": null,
      "outputs": [
        {
          "output_type": "execute_result",
          "data": {
            "text/plain": [
              "array([['ACE', 'ATVI'],\n",
              "       ['ADBE', 'ADT']], dtype='<U4')"
            ]
          },
          "metadata": {
            "tags": []
          },
          "execution_count": 30
        }
      ]
    },
    {
      "cell_type": "code",
      "metadata": {
        "colab": {
          "base_uri": "https://localhost:8080/",
          "height": 186
        },
        "id": "arvBe5ofp5RV",
        "outputId": "11820265-e8f1-4149-960d-6c47346783a9"
      },
      "source": [
        "sap3d[2] # 3차원\n",
        "# 해당하는 데이터가 없어서 오류가 난다.\n",
        "# 실무에서는 잘 쓰지 않는다."
      ],
      "execution_count": null,
      "outputs": [
        {
          "output_type": "error",
          "ename": "IndexError",
          "evalue": "ignored",
          "traceback": [
            "\u001b[0;31m---------------------------------------------------------------------------\u001b[0m",
            "\u001b[0;31mIndexError\u001b[0m                                Traceback (most recent call last)",
            "\u001b[0;32m<ipython-input-32-dd788711a857>\u001b[0m in \u001b[0;36m<module>\u001b[0;34m()\u001b[0m\n\u001b[0;32m----> 1\u001b[0;31m \u001b[0msap3d\u001b[0m\u001b[0;34m[\u001b[0m\u001b[0;36m2\u001b[0m\u001b[0;34m]\u001b[0m \u001b[0;31m# 3차원\u001b[0m\u001b[0;34m\u001b[0m\u001b[0;34m\u001b[0m\u001b[0m\n\u001b[0m\u001b[1;32m      2\u001b[0m \u001b[0;31m# 해당하는 데이터가 없어서 오류가 난다.\u001b[0m\u001b[0;34m\u001b[0m\u001b[0;34m\u001b[0m\u001b[0;34m\u001b[0m\u001b[0m\n",
            "\u001b[0;31mIndexError\u001b[0m: index 2 is out of bounds for axis 0 with size 2"
          ]
        }
      ]
    },
    {
      "cell_type": "markdown",
      "metadata": {
        "id": "Tgd2DG8krKI4"
      },
      "source": [
        "### 데이터 클리닝(data cleaning)을 위해 사용 되는 boolean indexing\n"
      ]
    },
    {
      "cell_type": "code",
      "metadata": {
        "colab": {
          "base_uri": "https://localhost:8080/"
        },
        "id": "bPu7rrs4qAPv",
        "outputId": "4ab1af88-ff87-4481-b250-05333eab5d40"
      },
      "source": [
        "# 절대 음수 값이 와서는 안되는 데이터셋\n",
        "\n",
        "dirty = np.array([9,4,1,-0.01,-0.002,-0.01])\n",
        "whos_dirty = dirty < 0  # boolean indexing\n",
        "whos_dirty\n",
        "\n",
        "# array([False, False, False,  True,  True,  True])\n",
        "# 항상 True일 때 무언가를 적용하기 쉽기 때문에 지우고 싶은 것들을 True로 만든 것"
      ],
      "execution_count": null,
      "outputs": [
        {
          "output_type": "execute_result",
          "data": {
            "text/plain": [
              "array([False, False, False,  True,  True,  True])"
            ]
          },
          "metadata": {
            "tags": []
          },
          "execution_count": 33
        }
      ]
    },
    {
      "cell_type": "code",
      "metadata": {
        "colab": {
          "base_uri": "https://localhost:8080/"
        },
        "id": "U9sD98scsIDA",
        "outputId": "7ae6ba24-8baf-4fd9-c6bf-c567381555b7"
      },
      "source": [
        "dirty[whos_dirty] = 0 \n",
        "# 모든 음수를 0으로 바꿔줌, True값들을 해당 요솟값으로 바꾸는 것\n",
        "dirty"
      ],
      "execution_count": null,
      "outputs": [
        {
          "output_type": "execute_result",
          "data": {
            "text/plain": [
              "array([9., 4., 1., 0., 0., 0.])"
            ]
          },
          "metadata": {
            "tags": []
          },
          "execution_count": 37
        }
      ]
    },
    {
      "cell_type": "markdown",
      "metadata": {
        "id": "giUzR-vjxfTd"
      },
      "source": [
        "### 논리 연산자 | or, & and, - not 결합하여 boolean indexing 사용\n"
      ]
    },
    {
      "cell_type": "code",
      "metadata": {
        "colab": {
          "base_uri": "https://localhost:8080/"
        },
        "id": "Th4RUVdZsx0k",
        "outputId": "a8dd0694-108e-4501-cc73-1f254e944e91"
      },
      "source": [
        "linear = np.arange(-1, 1.1, 0.2)\n",
        "linear"
      ],
      "execution_count": null,
      "outputs": [
        {
          "output_type": "execute_result",
          "data": {
            "text/plain": [
              "array([-1.00000000e+00, -8.00000000e-01, -6.00000000e-01, -4.00000000e-01,\n",
              "       -2.00000000e-01, -2.22044605e-16,  2.00000000e-01,  4.00000000e-01,\n",
              "        6.00000000e-01,  8.00000000e-01,  1.00000000e+00])"
            ]
          },
          "metadata": {
            "tags": []
          },
          "execution_count": 39
        }
      ]
    },
    {
      "cell_type": "code",
      "metadata": {
        "colab": {
          "base_uri": "https://localhost:8080/"
        },
        "id": "_C5sWwSgxvLD",
        "outputId": "361fc55a-c03c-4536-d95c-378ef82af875"
      },
      "source": [
        "# -0.5 ~ 0.5 사이의 값만 -> 0으로 변경하고 싶음\n",
        "whos_linear = (linear <= 0.5) & (linear >= -0.5)  # 괄호를 씌워주는 버릇을 들여야 여러개의 조건을 걸 때 헷갈리지 않는다.\n",
        "whos_linear\n"
      ],
      "execution_count": null,
      "outputs": [
        {
          "output_type": "execute_result",
          "data": {
            "text/plain": [
              "array([False, False, False,  True,  True,  True,  True,  True, False,\n",
              "       False, False])"
            ]
          },
          "metadata": {
            "tags": []
          },
          "execution_count": 40
        }
      ]
    },
    {
      "cell_type": "code",
      "metadata": {
        "colab": {
          "base_uri": "https://localhost:8080/"
        },
        "id": "SgpzrHmOyqFd",
        "outputId": "fa6ab932-724b-47c3-dc36-97f70f12ab0b"
      },
      "source": [
        "linear[whos_linear] = 0\n",
        "linear"
      ],
      "execution_count": null,
      "outputs": [
        {
          "output_type": "execute_result",
          "data": {
            "text/plain": [
              "array([-1. , -0.8, -0.6,  0. ,  0. ,  0. ,  0. ,  0. ,  0.6,  0.8,  1. ])"
            ]
          },
          "metadata": {
            "tags": []
          },
          "execution_count": 41
        }
      ]
    },
    {
      "cell_type": "markdown",
      "metadata": {
        "id": "5kix1TQpzCot"
      },
      "source": [
        "### 스마트 인덱싱"
      ]
    },
    {
      "cell_type": "code",
      "metadata": {
        "colab": {
          "base_uri": "https://localhost:8080/"
        },
        "id": "ZOfMQIshzUlT",
        "outputId": "265ae497-5cb0-4c99-8f0c-ede7b4abcba6"
      },
      "source": [
        "sap"
      ],
      "execution_count": null,
      "outputs": [
        {
          "output_type": "execute_result",
          "data": {
            "text/plain": [
              "array(['MMM', 'ABT', 'ABBV', 'ACN', 'ACE', 'ATVI', 'ADBE', 'ADT'],\n",
              "      dtype='<U4')"
            ]
          },
          "metadata": {
            "tags": []
          },
          "execution_count": 43
        }
      ]
    },
    {
      "cell_type": "code",
      "metadata": {
        "colab": {
          "base_uri": "https://localhost:8080/"
        },
        "id": "4oHi1ezcy6Sy",
        "outputId": "03fe4baa-376f-4b6d-b19e-7fc22f9081fa"
      },
      "source": [
        "# S&P 리스트에서 두번째, 세번째, 마지막 주식 기호를 추출\n",
        "sap[[1,2,-1]]\n"
      ],
      "execution_count": null,
      "outputs": [
        {
          "output_type": "execute_result",
          "data": {
            "text/plain": [
              "array(['ABT', 'ABBV', 'ADT'], dtype='<U4')"
            ]
          },
          "metadata": {
            "tags": []
          },
          "execution_count": 42
        }
      ]
    },
    {
      "cell_type": "code",
      "metadata": {
        "colab": {
          "base_uri": "https://localhost:8080/"
        },
        "id": "qDmtQahyzRuU",
        "outputId": "7c549bfd-4ab8-4558-e8ad-ab29a6d1f69d"
      },
      "source": [
        "sap2d"
      ],
      "execution_count": null,
      "outputs": [
        {
          "output_type": "execute_result",
          "data": {
            "text/plain": [
              "array([['MMM', 'ABT', 'ABBV', 'ACN'],\n",
              "       ['ACE', 'ATVI', 'ADBE', 'ADT']], dtype='<U4')"
            ]
          },
          "metadata": {
            "tags": []
          },
          "execution_count": 44
        }
      ]
    },
    {
      "cell_type": "code",
      "metadata": {
        "colab": {
          "base_uri": "https://localhost:8080/"
        },
        "id": "rv8zZbVszfCh",
        "outputId": "b7fe1530-8803-43bd-b957-f0421cab9c3c"
      },
      "source": [
        "sap2d[: , [1]]  # 대괄호로 감싸면 하나의 요소가 하나의 차원이 된다.\n",
        "# : 을 붙이면 전체에서 슬라이싱 할 건데, 뒤에 있는 인덱싱에 있는 방법을 가져와라"
      ],
      "execution_count": null,
      "outputs": [
        {
          "output_type": "execute_result",
          "data": {
            "text/plain": [
              "array([['ABT'],\n",
              "       ['ATVI']], dtype='<U4')"
            ]
          },
          "metadata": {
            "tags": []
          },
          "execution_count": 45
        }
      ]
    },
    {
      "cell_type": "code",
      "metadata": {
        "colab": {
          "base_uri": "https://localhost:8080/"
        },
        "id": "ki6VwIgYzq9E",
        "outputId": "e0147aba-d4ce-4f30-a883-72a96628ca46"
      },
      "source": [
        "sap2d[:, 1]"
      ],
      "execution_count": null,
      "outputs": [
        {
          "output_type": "execute_result",
          "data": {
            "text/plain": [
              "array(['ABT', 'ATVI'], dtype='<U4')"
            ]
          },
          "metadata": {
            "tags": []
          },
          "execution_count": 46
        }
      ]
    },
    {
      "cell_type": "markdown",
      "metadata": {
        "id": "yxmmp8kg0BLz"
      },
      "source": [
        "### 차원만 같다면 numpy에서는 사칙연산 가능 (그낭 더하기) -> 브로드캐스팅\n"
      ]
    },
    {
      "cell_type": "code",
      "metadata": {
        "colab": {
          "base_uri": "https://localhost:8080/"
        },
        "id": "FE2hrOOVzzyR",
        "outputId": "9284545d-7095-4e35-e550-bd9288ffe5b3"
      },
      "source": [
        "a = np.arange(4)\n",
        "b = np.arange(1, 5)\n",
        "\n",
        "print(a)\n",
        "print(b)"
      ],
      "execution_count": null,
      "outputs": [
        {
          "output_type": "stream",
          "text": [
            "[0 1 2 3]\n",
            "[1 2 3 4]\n"
          ],
          "name": "stdout"
        }
      ]
    },
    {
      "cell_type": "code",
      "metadata": {
        "colab": {
          "base_uri": "https://localhost:8080/"
        },
        "id": "FvPuXHPJ0YkR",
        "outputId": "cc2b151f-55af-4b8b-ebd1-d5a49f946950"
      },
      "source": [
        "# 데이터를 numpy 배열에만 넣을 수 있다면 편리한 계산이 가능하다.\n",
        "a+b"
      ],
      "execution_count": null,
      "outputs": [
        {
          "output_type": "execute_result",
          "data": {
            "text/plain": [
              "array([1, 3, 5, 7])"
            ]
          },
          "metadata": {
            "tags": []
          },
          "execution_count": 50
        }
      ]
    },
    {
      "cell_type": "code",
      "metadata": {
        "colab": {
          "base_uri": "https://localhost:8080/"
        },
        "id": "syMNGULR0ekK",
        "outputId": "d9fe3e0e-0211-45e9-f13d-6397a69371dc"
      },
      "source": [
        "a * 5"
      ],
      "execution_count": null,
      "outputs": [
        {
          "output_type": "execute_result",
          "data": {
            "text/plain": [
              "array([ 0,  5, 10, 15])"
            ]
          },
          "metadata": {
            "tags": []
          },
          "execution_count": 51
        }
      ]
    },
    {
      "cell_type": "code",
      "metadata": {
        "colab": {
          "base_uri": "https://localhost:8080/"
        },
        "id": "4qi2ZQIY1Euu",
        "outputId": "41ec56e5-d579-480e-99b3-4866dc699449"
      },
      "source": [
        "np.random.random([4, 4])"
      ],
      "execution_count": null,
      "outputs": [
        {
          "output_type": "execute_result",
          "data": {
            "text/plain": [
              "array([[0.13773616, 0.02422886, 0.11123668, 0.55427959],\n",
              "       [0.77227791, 0.89466114, 0.81921547, 0.72896944],\n",
              "       [0.44619527, 0.08782578, 0.76856718, 0.48592457],\n",
              "       [0.26155894, 0.78267376, 0.62300394, 0.42386271]])"
            ]
          },
          "metadata": {
            "tags": []
          },
          "execution_count": 72
        }
      ]
    },
    {
      "cell_type": "code",
      "metadata": {
        "colab": {
          "base_uri": "https://localhost:8080/"
        },
        "id": "aA7DjUmn0nBH",
        "outputId": "a5ffaf73-d9c8-4505-d754-232186f7258e"
      },
      "source": [
        "noise = np.eye(4) + 0.01 * np.random.random([4, 4])\n",
        "noise"
      ],
      "execution_count": null,
      "outputs": [
        {
          "output_type": "execute_result",
          "data": {
            "text/plain": [
              "array([[1.0057593 , 0.00332819, 0.0077765 , 0.00806917],\n",
              "       [0.00410368, 1.00438182, 0.00340789, 0.00373321],\n",
              "       [0.00835538, 0.00687734, 1.00551018, 0.00297917],\n",
              "       [0.00775943, 0.00109953, 0.00176918, 1.00935239]])"
            ]
          },
          "metadata": {
            "tags": []
          },
          "execution_count": 70
        }
      ]
    },
    {
      "cell_type": "code",
      "metadata": {
        "id": "Ar6aCoec2EhY"
      },
      "source": [
        ""
      ],
      "execution_count": null,
      "outputs": []
    }
  ]
}