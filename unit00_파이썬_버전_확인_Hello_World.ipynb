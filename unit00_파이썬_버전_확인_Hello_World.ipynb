{
  "nbformat": 4,
  "nbformat_minor": 0,
  "metadata": {
    "colab": {
      "name": "unit00_파이썬 버전 확인_Hello World.ipynb",
      "provenance": [],
      "authorship_tag": "ABX9TyNy+AJfF5T0U4hweNC45mjY",
      "include_colab_link": true
    },
    "kernelspec": {
      "name": "python3",
      "display_name": "Python 3"
    },
    "language_info": {
      "name": "python"
    }
  },
  "cells": [
    {
      "cell_type": "markdown",
      "metadata": {
        "id": "view-in-github",
        "colab_type": "text"
      },
      "source": [
        "<a href=\"https://colab.research.google.com/github/gmrdns03/DataSciencePython_Minkyo/blob/main/unit00_%ED%8C%8C%EC%9D%B4%EC%8D%AC_%EB%B2%84%EC%A0%84_%ED%99%95%EC%9D%B8_Hello_World.ipynb\" target=\"_parent\"><img src=\"https://colab.research.google.com/assets/colab-badge.svg\" alt=\"Open In Colab\"/></a>"
      ]
    },
    {
      "cell_type": "code",
      "metadata": {
        "colab": {
          "base_uri": "https://localhost:8080/"
        },
        "id": "RYRD3_Mjn5GE",
        "outputId": "4f870dff-70d6-4420-8e48-0ac30ca7e149"
      },
      "source": [
        "print('Hello World')"
      ],
      "execution_count": null,
      "outputs": [
        {
          "output_type": "stream",
          "text": [
            "Hello World\n"
          ],
          "name": "stdout"
        }
      ]
    },
    {
      "cell_type": "markdown",
      "metadata": {
        "id": "uZhZJiKupliM"
      },
      "source": [
        "**파이썬 버전 확인**"
      ]
    },
    {
      "cell_type": "code",
      "metadata": {
        "colab": {
          "base_uri": "https://localhost:8080/"
        },
        "id": "ELy4j0Floy-2",
        "outputId": "b0fbd03b-4976-4587-8ccf-86c908fee1ef"
      },
      "source": [
        "import sys\n",
        "print('파이썬 버전은?:  ', sys.version)"
      ],
      "execution_count": null,
      "outputs": [
        {
          "output_type": "stream",
          "text": [
            "파이썬 버전은?:   3.7.10 (default, May  3 2021, 02:48:31) \n",
            "[GCC 7.5.0]\n"
          ],
          "name": "stdout"
        }
      ]
    },
    {
      "cell_type": "code",
      "metadata": {
        "id": "jm0o0lGJpuVD"
      },
      "source": [
        ""
      ],
      "execution_count": null,
      "outputs": []
    }
  ]
}